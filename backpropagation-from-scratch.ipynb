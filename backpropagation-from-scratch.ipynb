{
  "nbformat": 4,
  "nbformat_minor": 0,
  "metadata": {
    "colab": {
      "name": "backpropagation-from-scratch.ipynb",
      "provenance": [],
      "collapsed_sections": [],
      "toc_visible": true,
      "authorship_tag": "ABX9TyOKZgNOYvWf6UcwNMEXHseB",
      "include_colab_link": true
    },
    "kernelspec": {
      "name": "python3",
      "display_name": "Python 3"
    }
  },
  "cells": [
    {
      "cell_type": "markdown",
      "metadata": {
        "id": "view-in-github",
        "colab_type": "text"
      },
      "source": [
        "<a href=\"https://colab.research.google.com/github/marcospgp/backpropagation-from-scratch/blob/master/backpropagation-from-scratch.ipynb\" target=\"_parent\"><img src=\"https://colab.research.google.com/assets/colab-badge.svg\" alt=\"Open In Colab\"/></a>"
      ]
    },
    {
      "cell_type": "markdown",
      "metadata": {
        "id": "CKRRjmhbFcx7",
        "colab_type": "text"
      },
      "source": [
        "# Loading MNIST dataset from Keras\n"
      ]
    },
    {
      "cell_type": "code",
      "metadata": {
        "id": "kjvPSnDA4J_w",
        "colab_type": "code",
        "colab": {
          "base_uri": "https://localhost:8080/",
          "height": 265
        },
        "outputId": "f0d75622-d005-4b0d-f4e1-560d5d2d9f34"
      },
      "source": [
        "import tensorflow as tf\n",
        "import matplotlib.pyplot as plt\n",
        "\n",
        "(x_train, y_train), (x_test, y_test) = tf.keras.datasets.mnist.load_data(path=\"mnist.npz\")\n",
        "\n",
        "plt.imshow(x_train[0],cmap='gray');"
      ],
      "execution_count": 178,
      "outputs": [
        {
          "output_type": "display_data",
          "data": {
            "image/png": "[encoded data removed]",
            "text/plain": [
              "<Figure size 432x288 with 1 Axes>"
            ]
          },
          "metadata": {
            "tags": [],
            "needs_background": "light"
          }
        }
      ]
    },
    {
      "cell_type": "markdown",
      "metadata": {
        "id": "Klx9qPmxF9jI",
        "colab_type": "text"
      },
      "source": [
        "# Utility functions"
      ]
    },
    {
      "cell_type": "code",
      "metadata": {
        "id": "sdyvaUKoF7ux",
        "colab_type": "code",
        "colab": {}
      },
      "source": [
        "import numpy as np\n",
        "\n",
        "def sigmoid(x):\n",
        "  # Numerically stable sigmoid function based on\n",
        "  # http://timvieira.github.io/blog/post/2014/02/11/exp-normalize-trick/\n",
        "  \n",
        "  x = np.clip(x, -500, 500) # We get an overflow warning without this\n",
        "  \n",
        "  return np.where(\n",
        "    x >= 0,\n",
        "    1 / (1 + np.exp(-x)),\n",
        "    np.exp(x) / (1 + np.exp(x))\n",
        "  )\n",
        "\n",
        "def dsigmoid(x): # Derivative of sigmoid\n",
        "  return sigmoid(x) * (1 - sigmoid(x))\n",
        "\n",
        "def softmax(x):\n",
        "  # Numerically stable softmax based on (same source as sigmoid)\n",
        "  # http://timvieira.github.io/blog/post/2014/02/11/exp-normalize-trick/\n",
        "  b = x.max()\n",
        "  y = np.exp(x - b)\n",
        "  return y / y.sum()\n",
        "\n",
        "def cross_entropy_loss(y, yHat):\n",
        "  return -np.sum(y * np.log(yHat))\n",
        "\n",
        "def integer_to_one_hot(x, max):\n",
        "  # x: integer to convert to one hot encoding\n",
        "  # max: the size of the one hot encoded array\n",
        "  result = np.zeros(10)\n",
        "  result[x] = 1\n",
        "  return result"
      ],
      "execution_count": 179,
      "outputs": []
    },
    {
      "cell_type": "markdown",
      "metadata": {
        "id": "_xIZEupTHyNM",
        "colab_type": "text"
      },
      "source": [
        "# Initialize architecture, weights, and biases"
      ]
    },
    {
      "cell_type": "code",
      "metadata": {
        "id": "zBeGvbu6FaM_",
        "colab_type": "code",
        "colab": {
          "base_uri": "https://localhost:8080/",
          "height": 865
        },
        "outputId": "af98eda1-651f-4d66-ebad-4f4885cd0c8d"
      },
      "source": [
        "import math\n",
        "\n",
        "# Initialize weights of each layer with a normal distribution of mean 0 and\n",
        "# standard deviation 1/sqrt(n), where n is the number of inputs.\n",
        "# This means the weighted input will be a random variable itself with mean\n",
        "# 0 and standard deviation close to 1 (if biases are initialized as 0, standard\n",
        "# deviation will be exactly 1)\n",
        "\n",
        "from numpy.random import default_rng\n",
        "\n",
        "rng = default_rng(80085)\n",
        "\n",
        "# Neural network layer sizes: 784 -> 32 -> 32 -> 10\n",
        "\n",
        "weights = [\n",
        "  rng.normal(0, 1/math.sqrt(784), (32, 784)),\n",
        "  rng.normal(0, 1/math.sqrt(32), (32, 32)),\n",
        "  rng.normal(0, 1/math.sqrt(32), (10, 32))\n",
        "]\n",
        "\n",
        "biases = [np.zeros(32), np.zeros(32), np.zeros(10)]\n",
        "\n",
        "# Plot histogram of layer weights to check probability distribution\n",
        "\n",
        "print(\"Weight distribution per layer:\")\n",
        "for index, layer in enumerate(weights):\n",
        "  plt.figure()\n",
        "  plt.suptitle(\n",
        "    \"Layer \" + str(index + 1) + \" with \" + str(layer.shape[0]) +\n",
        "    \" neurons, \" + str(layer.shape[1]) + \" inputs each (\" + str(layer.size) +\n",
        "    \" weights in total)\"\n",
        "  )\n",
        "  plt.hist(layer.flatten(), bins=100);\n"
      ],
      "execution_count": 180,
      "outputs": [
        {
          "output_type": "stream",
          "text": [
            "Weight distribution per layer:\n"
          ],
          "name": "stdout"
        },
        {
          "output_type": "display_data",
          "data": {
            "image/png": "[encoded data removed]",
            "text/plain": [
              "<Figure size 432x288 with 1 Axes>"
            ]
          },
          "metadata": {
            "tags": [],
            "needs_background": "light"
          }
        },
        {
          "output_type": "display_data",
          "data": {
            "image/png": "[encoded data removed]",
            "text/plain": [
              "<Figure size 432x288 with 1 Axes>"
            ]
          },
          "metadata": {
            "tags": [],
            "needs_background": "light"
          }
        },
        {
          "output_type": "display_data",
          "data": {
            "image/png": "[encoded data removed]",
            "text/plain": [
              "<Figure size 432x288 with 1 Axes>"
            ]
          },
          "metadata": {
            "tags": [],
            "needs_background": "light"
          }
        }
      ]
    },
    {
      "cell_type": "markdown",
      "metadata": {
        "id": "IafUGD_VGeLh",
        "colab_type": "text"
      },
      "source": [
        "# Feed forward\n",
        "\n",
        "Feed forward once before training to check accuracy"
      ]
    },
    {
      "cell_type": "code",
      "metadata": {
        "id": "cd6jGroQGdOF",
        "colab_type": "code",
        "colab": {
          "base_uri": "https://localhost:8080/",
          "height": 134
        },
        "outputId": "c059fa47-5c37-442c-8207-9412d7be7eca"
      },
      "source": [
        "def feed_forward_sample(sample, y):\n",
        "  \"\"\" Feeds a sample forward through the neural network.\n",
        "    Parameters:\n",
        "      sample: 1D numpy array. The input sample (an MNIST digit).\n",
        "      label: An integer from 0 to 9.\n",
        "\n",
        "    Returns: The cross entropy loss.\n",
        "  \"\"\"\n",
        "  a = sample.flatten()\n",
        "\n",
        "  for index, w in enumerate(weights):\n",
        "    z = np.matmul(w, a) + biases[index]\n",
        "    if index < len(weights) - 1:\n",
        "      a = sigmoid(z)\n",
        "    else:\n",
        "      a = softmax(z)\n",
        "\n",
        "  # Calculate loss\n",
        "  one_hot_y = integer_to_one_hot(y, 10)\n",
        "  loss = cross_entropy_loss(one_hot_y, a)\n",
        "\n",
        "  # Convert activations to one hot encoded guess\n",
        "  one_hot_guess = np.zeros_like(a)\n",
        "  one_hot_guess[np.argmax(a)] = 1\n",
        "  \n",
        "  return loss, one_hot_guess\n",
        "\n",
        "\n",
        "# Feedforward all training samples\n",
        "def feed_forward_dataset(x, y):\n",
        "  losses = np.empty(x.shape[0])\n",
        "  one_hot_guesses = np.empty((x.shape[0], 10))\n",
        "\n",
        "  for i in range(x.shape[0]):\n",
        "    if i == 0 or ((i + 1) % 10000 == 0):\n",
        "      print(i + 1, \"/\", x.shape[0], \"(\", format(((i + 1) / x.shape[0]) * 100, \".2f\"), \"%)\")\n",
        "    losses[i], one_hot_guesses[i] = feed_forward(x[i], y[i])\n",
        "\n",
        "  print(\"\\nAverage loss:\", np.round(np.average(losses), decimals=2))\n",
        "\n",
        "  y_one_hot = np.zeros((y.size, 10))\n",
        "  y_one_hot[np.arange(y.size), y] = 1\n",
        "\n",
        "  # Expected correct guesses 6 000/60 000, assuming perfect randomness\n",
        "  correct_guesses = np.sum(y_one_hot * one_hot_guesses)\n",
        "  correct_guess_percent = format((correct_guesses / y.shape[0]) * 100, \".2f\")\n",
        "  print(\"Accuracy (# of correct guesses):\", correct_guesses, \"/\", y.shape[0], \"(\", correct_guess_percent, \"%)\")\n",
        "\n",
        "def feed_forward_training_data():\n",
        "  print(\"Feeding forward all training data...\")\n",
        "  feed_forward_dataset(x_train, y_train)\n",
        "  print(\"\")\n",
        "\n",
        "def feed_forward_test_data():\n",
        "  print(\"Feeding forward all test data...\")\n",
        "  feed_forward_dataset(x_test, y_test)\n",
        "  print(\"\")\n",
        "\n",
        "feed_forward_test_data()"
      ],
      "execution_count": 181,
      "outputs": [
        {
          "output_type": "stream",
          "text": [
            "Feeding forward all test data...\n",
            "1 / 10000 ( 0.01 %)\n",
            "10000 / 10000 ( 100.00 %)\n",
            "\n",
            "Average loss: 2.36\n",
            "Accuracy (# of correct guesses): 994.0 / 10000 ( 9.94 %)\n",
            "\n"
          ],
          "name": "stdout"
        }
      ]
    },
    {
      "cell_type": "markdown",
      "metadata": {
        "id": "sSrlc2VLOi8L",
        "colab_type": "text"
      },
      "source": [
        "# Training\n",
        "\n",
        "1.   Feedforward one sample, storing layer activations\n",
        "2.   Calculate gradient\n",
        "3.   Update weights & biases according to learning rate\n",
        "4.   Repeat\n",
        "\n",
        "More details about this implementation [here](https://www.mathcha.io/editor/vrmV3C1KFnvu2Dx3ewh7rgr54fBOvJL2TzoNWNe)\n",
        "\n",
        "The maximum accuracy reached was ~85%, after training for a few epochs. The network then starts to overfit.\n",
        "\n",
        "\n"
      ]
    },
    {
      "cell_type": "code",
      "metadata": {
        "id": "BLLEsVdcOgzi",
        "colab_type": "code",
        "colab": {
          "base_uri": "https://localhost:8080/",
          "height": 991
        },
        "outputId": "4dd03490-34a4-4646-8a16-733f72601816"
      },
      "source": [
        "def train_one_sample(sample, y, learning_rate=0.003):\n",
        "  a = sample.flatten()\n",
        "\n",
        "  # We will store each layer's activations to calculate gradient\n",
        "  activations = []\n",
        "\n",
        "  # Feedforward\n",
        "  for i, w in enumerate(weights): # Each w is a layer's 2D weight matrix\n",
        "    z = np.matmul(w, a) + biases[i]\n",
        "    if (i < len(weights) - 1):\n",
        "      a = sigmoid(z)\n",
        "    else:  \n",
        "      a = softmax(z) # softmax on last layer\n",
        "    activations.append(a)\n",
        "\n",
        "  # Calculate loss\n",
        "  one_hot_y = integer_to_one_hot(y, 10)\n",
        "  loss = cross_entropy_loss(one_hot_y, a)\n",
        "\n",
        "  # Convert last layer's activations to one hot encoded guess\n",
        "  one_hot_guess = np.zeros_like(a)\n",
        "  one_hot_guess[np.argmax(a)] = 1\n",
        "\n",
        "  # Check whether guess was correct\n",
        "  correct_guess = (np.sum(one_hot_y * one_hot_guess) == 1)\n",
        "\n",
        "  weight_gradients = [None] * len(weights)\n",
        "  bias_gradients = [None] * len(weights)\n",
        "  activation_gradients = [None] * (len(weights) - 1)\n",
        "  \n",
        "  # Backpropagation\n",
        "  for i in range(len(weights) - 1, -1, -1): # Traverse layers in reverse\n",
        "    last_layer = i == len(weights) - 1\n",
        "    second_to_last_layer = i == len(weights) - 2\n",
        "\n",
        "    if last_layer:\n",
        "      # Gather all needed variables, making vectors vertical\n",
        "      y = one_hot_y[:, np.newaxis]\n",
        "      a = activations[i][:, np.newaxis]\n",
        "      a_prev = activations[i-1][:, np.newaxis]\n",
        "\n",
        "      weight_gradients[i] = np.matmul((a - y), a_prev.T)\n",
        "      bias_gradients[i] = a - y\n",
        "\n",
        "    else:\n",
        "      # Gather all needed variables, making vectors vertical\n",
        "      w_next = weights[i+1]\n",
        "      a_next = activations[i + 1][:, np.newaxis]\n",
        "      y = one_hot_y[:, np.newaxis]\n",
        "      a = activations[i][:, np.newaxis]\n",
        "      if i > 0:\n",
        "        a_prev = activations[i-1][:, np.newaxis]\n",
        "      else:\n",
        "        # Previous activation is the sample itself\n",
        "        a_prev = sample.flatten()[:, np.newaxis]\n",
        "\n",
        "      # Activation gradient\n",
        "      if second_to_last_layer:\n",
        "        dCda = np.matmul(w_next.T, (a_next - y))\n",
        "        activation_gradients[i] = dCda\n",
        "      else:\n",
        "        dCda_next = activation_gradients[i+1]\n",
        "        dCda = np.matmul(w_next.T, (dsigmoid(a_next) * dCda_next))\n",
        "        activation_gradients[i] = dCda\n",
        "\n",
        "      # Weights & biases gradients\n",
        "      x = dsigmoid(a) * dCda\n",
        "      weight_gradients[i] = np.matmul(x, a_prev.T)\n",
        "      bias_gradients[i] = x\n",
        "\n",
        "    # Update weights & biases based on gradient\n",
        "    weights[i] -= weight_gradients[i] * learning_rate\n",
        "    biases[i] -= bias_gradients[i].flatten() * learning_rate\n",
        "\n",
        "def train_one_epoch(learning_rate=0.003):\n",
        "  print(\"Training for one epoch over the training dataset...\")\n",
        "  for i in range(x_train.shape[0]):\n",
        "    if i == 0 or ((i + 1) % 10000 == 0):\n",
        "      completion_percent = format(((i + 1) / x_train.shape[0]) * 100, \".2f\")\n",
        "      print(i + 1, \"/\", x_train.shape[0], \"(\", completion_percent, \"%)\")\n",
        "    train_one_sample(x_train[i], y_train[i], learning_rate)\n",
        "  print(\"Finished training.\\n\")\n",
        "\n",
        "# Train and check accuracy before & after each epoch\n",
        "\n",
        "feed_forward_test_data()\n",
        "\n",
        "def test_and_train():\n",
        "  train_one_epoch()\n",
        "  feed_forward_test_data()\n",
        "\n",
        "for i in range(3): # Adjust number of epochs here\n",
        "  test_and_train()"
      ],
      "execution_count": 182,
      "outputs": [
        {
          "output_type": "stream",
          "text": [
            "Feeding forward all test data...\n",
            "1 / 10000 ( 0.01 %)\n",
            "10000 / 10000 ( 100.00 %)\n",
            "\n",
            "Average loss: 2.36\n",
            "Accuracy (# of correct guesses): 994.0 / 10000 ( 9.94 %)\n",
            "\n",
            "Training for one epoch over the training dataset...\n",
            "1 / 60000 ( 0.00 %)\n",
            "10000 / 60000 ( 16.67 %)\n",
            "20000 / 60000 ( 33.33 %)\n",
            "30000 / 60000 ( 50.00 %)\n",
            "40000 / 60000 ( 66.67 %)\n",
            "50000 / 60000 ( 83.33 %)\n",
            "60000 / 60000 ( 100.00 %)\n",
            "Finished training.\n",
            "\n",
            "Feeding forward all test data...\n",
            "1 / 10000 ( 0.01 %)\n",
            "10000 / 10000 ( 100.00 %)\n",
            "\n",
            "Average loss: 0.63\n",
            "Accuracy (# of correct guesses): 8023.0 / 10000 ( 80.23 %)\n",
            "\n",
            "Training for one epoch over the training dataset...\n",
            "1 / 60000 ( 0.00 %)\n",
            "10000 / 60000 ( 16.67 %)\n",
            "20000 / 60000 ( 33.33 %)\n",
            "30000 / 60000 ( 50.00 %)\n",
            "40000 / 60000 ( 66.67 %)\n",
            "50000 / 60000 ( 83.33 %)\n",
            "60000 / 60000 ( 100.00 %)\n",
            "Finished training.\n",
            "\n",
            "Feeding forward all test data...\n",
            "1 / 10000 ( 0.01 %)\n",
            "10000 / 10000 ( 100.00 %)\n",
            "\n",
            "Average loss: 0.51\n",
            "Accuracy (# of correct guesses): 8481.0 / 10000 ( 84.81 %)\n",
            "\n",
            "Training for one epoch over the training dataset...\n",
            "1 / 60000 ( 0.00 %)\n",
            "10000 / 60000 ( 16.67 %)\n",
            "20000 / 60000 ( 33.33 %)\n",
            "30000 / 60000 ( 50.00 %)\n",
            "40000 / 60000 ( 66.67 %)\n",
            "50000 / 60000 ( 83.33 %)\n",
            "60000 / 60000 ( 100.00 %)\n",
            "Finished training.\n",
            "\n",
            "Feeding forward all test data...\n",
            "1 / 10000 ( 0.01 %)\n",
            "10000 / 10000 ( 100.00 %)\n",
            "\n",
            "Average loss: 0.49\n",
            "Accuracy (# of correct guesses): 8563.0 / 10000 ( 85.63 %)\n",
            "\n"
          ],
          "name": "stdout"
        }
      ]
    }
  ]
}